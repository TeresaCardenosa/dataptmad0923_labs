{
 "cells": [
  {
   "cell_type": "markdown",
   "metadata": {},
   "source": [
    "# Introduction to Pandas\n",
    "\n",
    "Complete the following set of exercises to solidify your knowledge of Pandas fundamentals."
   ]
  },
  {
   "cell_type": "markdown",
   "metadata": {},
   "source": [
    "#### 1. Import Numpy and Pandas and alias them to `np` and `pd` respectively."
   ]
  },
  {
   "cell_type": "code",
   "execution_count": 1,
   "metadata": {},
   "outputs": [],
   "source": [
    "# your code here\n",
    "import numpy as np\n",
    "import pandas as pd"
   ]
  },
  {
   "cell_type": "markdown",
   "metadata": {},
   "source": [
    "#### 2. Create a Pandas Series containing the elements of the list below."
   ]
  },
  {
   "cell_type": "code",
   "execution_count": 3,
   "metadata": {},
   "outputs": [],
   "source": [
    "lst = [5.7, 75.2, 74.4, 84.0, 66.5, 66.3, 55.8, 75.7, 29.1, 43.7]"
   ]
  },
  {
   "cell_type": "code",
   "execution_count": 13,
   "metadata": {},
   "outputs": [
    {
     "name": "stdout",
     "output_type": "stream",
     "text": [
      "RangeIndex(start=0, stop=10, step=1)\n",
      "10\n",
      "<class 'pandas.core.series.Series'>\n",
      "float64\n",
      "(10,)\n",
      "1\n",
      "0     5.7\n",
      "1    75.2\n",
      "2    74.4\n",
      "3    84.0\n",
      "4    66.5\n",
      "dtype: float64\n"
     ]
    }
   ],
   "source": [
    "# your code here\n",
    "\n",
    "l1 = pd.Series(lst)\n",
    "\n",
    "\"\"\"\n",
    "print(l1.index)   # index\n",
    "print(l1.size)    # n elementos total \n",
    "print(type(l1))   # type del objeto > pandas.serie\n",
    "print(l1.dtype)   # type de los elementos internos\n",
    "print(l1.shape)   # tamaño de dimensiones\n",
    "print(l1.ndim)    # n. dimensiones\n",
    "print(l1.head())  # view de los 5 primeros \n",
    "\"\"\""
   ]
  },
  {
   "cell_type": "markdown",
   "metadata": {},
   "source": [
    "#### 3. Use indexing to return the third value in the Series above.\n",
    "\n",
    "*Hint: Remember that indexing begins at 0.*"
   ]
  },
  {
   "cell_type": "code",
   "execution_count": 14,
   "metadata": {},
   "outputs": [
    {
     "data": {
      "text/plain": [
       "74.4"
      ]
     },
     "execution_count": 14,
     "metadata": {},
     "output_type": "execute_result"
    }
   ],
   "source": [
    "# your code here\n",
    "\n",
    "l1.loc[2,]"
   ]
  },
  {
   "cell_type": "markdown",
   "metadata": {},
   "source": [
    "#### 4. Create a Pandas DataFrame from the list of lists below. Each sublist should be represented as a row."
   ]
  },
  {
   "cell_type": "code",
   "execution_count": 15,
   "metadata": {},
   "outputs": [],
   "source": [
    "b = [[53.1, 95.0, 67.5, 35.0, 78.4],\n",
    "     [61.3, 40.8, 30.8, 37.8, 87.6],\n",
    "     [20.6, 73.2, 44.2, 14.6, 91.8],\n",
    "     [57.4, 0.1, 96.1, 4.2, 69.5],\n",
    "     [83.6, 20.5, 85.4, 22.8, 35.9],\n",
    "     [49.0, 69.0, 0.1, 31.8, 89.1],\n",
    "     [23.3, 40.7, 95.0, 83.8, 26.9],\n",
    "     [27.6, 26.4, 53.8, 88.8, 68.5],\n",
    "     [96.6, 96.4, 53.4, 72.4, 50.1],\n",
    "     [73.7, 39.0, 43.2, 81.6, 34.7]]"
   ]
  },
  {
   "cell_type": "code",
   "execution_count": 20,
   "metadata": {},
   "outputs": [
    {
     "name": "stdout",
     "output_type": "stream",
     "text": [
      "      0     1     2     3     4\n",
      "0  53.1  95.0  67.5  35.0  78.4\n",
      "1  61.3  40.8  30.8  37.8  87.6\n",
      "2  20.6  73.2  44.2  14.6  91.8\n",
      "3  57.4   0.1  96.1   4.2  69.5\n",
      "4  83.6  20.5  85.4  22.8  35.9\n",
      "(10, 5)\n"
     ]
    }
   ],
   "source": [
    "# your code here\n",
    "df_b = pd.DataFrame(b)\n",
    "\n",
    "\n",
    "\"\"\"\n",
    "print(df_b.head())\n",
    "print(df_b.shape)\n",
    "\"\"\""
   ]
  },
  {
   "cell_type": "markdown",
   "metadata": {},
   "source": [
    "#### 5. Rename the data frame columns based on the names in the list below."
   ]
  },
  {
   "cell_type": "code",
   "execution_count": 21,
   "metadata": {},
   "outputs": [],
   "source": [
    "colnames = ['Score_1', 'Score_2', 'Score_3', 'Score_4', 'Score_5']"
   ]
  },
  {
   "cell_type": "code",
   "execution_count": 28,
   "metadata": {},
   "outputs": [
    {
     "name": "stdout",
     "output_type": "stream",
     "text": [
      "   Score_1  Score_2  Score_3  Score_4  Score_5\n",
      "0     53.1     95.0     67.5     35.0     78.4\n",
      "1     61.3     40.8     30.8     37.8     87.6\n",
      "2     20.6     73.2     44.2     14.6     91.8\n",
      "3     57.4      0.1     96.1      4.2     69.5\n",
      "4     83.6     20.5     85.4     22.8     35.9\n"
     ]
    }
   ],
   "source": [
    "# your code here\n",
    "\n",
    "df_b = df_b.set_axis(colnames, axis=1)   # Indexa las etiquetas por columnas o filas. (axis 0 or index vs axis 1 or columns)\n",
    "# df_b.columns = colnames                 # También puede ser asignado directamente.\n",
    "\n",
    "# print(df_b.head())"
   ]
  },
  {
   "cell_type": "markdown",
   "metadata": {},
   "source": [
    "#### 6. Create a subset of this data frame that contains only the Score 1, 3, and 5 columns."
   ]
  },
  {
   "cell_type": "code",
   "execution_count": 34,
   "metadata": {},
   "outputs": [
    {
     "name": "stdout",
     "output_type": "stream",
     "text": [
      "   Score_1  Score_3  Score_5\n",
      "0     53.1     67.5     78.4\n",
      "1     61.3     30.8     87.6\n",
      "2     20.6     44.2     91.8\n",
      "3     57.4     96.1     69.5\n",
      "4     83.6     85.4     35.9\n",
      "(10, 3)\n"
     ]
    }
   ],
   "source": [
    "# your code here\n",
    "df_c = df_b[['Score_1', 'Score_3', 'Score_5']].copy()   # Otra alternativa es con .filter(['Score:1, '...''], axil=1)\n",
    "\n",
    "\"\"\"\n",
    "print(df_c.head())\n",
    "print(df_c.shape)\n",
    "\"\"\""
   ]
  },
  {
   "cell_type": "markdown",
   "metadata": {},
   "source": [
    "#### 7. From the original data frame, calculate the average Score_3 value."
   ]
  },
  {
   "cell_type": "code",
   "execution_count": 36,
   "metadata": {},
   "outputs": [
    {
     "name": "stdout",
     "output_type": "stream",
     "text": [
      "        Score_1   Score_2    Score_3    Score_4    Score_5\n",
      "count  10.00000  10.00000  10.000000  10.000000  10.000000\n",
      "mean   54.62000  50.11000  56.950000  47.280000  63.250000\n",
      "std    25.64899  32.12204  30.168278  31.393446  24.562313\n",
      "min    20.60000   0.10000   0.100000   4.200000  26.900000\n",
      "25%    32.95000  29.55000  43.450000  25.050000  39.450000\n",
      "50%    55.25000  40.75000  53.600000  36.400000  69.000000\n",
      "75%    70.60000  72.15000  80.925000  79.300000  85.300000\n",
      "max    96.60000  96.40000  96.100000  88.800000  91.800000\n",
      "56.95000000000001\n"
     ]
    }
   ],
   "source": [
    "# your code here\n",
    "print(df_b.describe())         # Forma genérica para ver todos los cálculos en todas las columns\n",
    "\n",
    "print(df_b['Score_3'].mean())  # Forma concreta indicando qué column y qué calculo. "
   ]
  },
  {
   "cell_type": "markdown",
   "metadata": {},
   "source": [
    "#### 8. From the original data frame, calculate the maximum Score_4 value."
   ]
  },
  {
   "cell_type": "code",
   "execution_count": 37,
   "metadata": {},
   "outputs": [
    {
     "name": "stdout",
     "output_type": "stream",
     "text": [
      "88.8\n"
     ]
    }
   ],
   "source": [
    "# your code here\n",
    "print(df_b['Score_4'].max())"
   ]
  },
  {
   "cell_type": "markdown",
   "metadata": {},
   "source": [
    "#### 9. From the original data frame, calculate the median Score 2 value."
   ]
  },
  {
   "cell_type": "code",
   "execution_count": 38,
   "metadata": {},
   "outputs": [
    {
     "name": "stdout",
     "output_type": "stream",
     "text": [
      "40.75\n"
     ]
    }
   ],
   "source": [
    "# your code here\n",
    "print(df_b['Score_2'].median())"
   ]
  },
  {
   "cell_type": "markdown",
   "metadata": {},
   "source": [
    "#### 10. Create a Pandas DataFrame from the dictionary of product orders below."
   ]
  },
  {
   "cell_type": "code",
   "execution_count": 39,
   "metadata": {},
   "outputs": [],
   "source": [
    "orders = {'Description': ['LUNCH BAG APPLE DESIGN',\n",
    "  'SET OF 60 VINTAGE LEAF CAKE CASES ',\n",
    "  'RIBBON REEL STRIPES DESIGN ',\n",
    "  'WORLD WAR 2 GLIDERS ASSTD DESIGNS',\n",
    "  'PLAYING CARDS JUBILEE UNION JACK',\n",
    "  'POPCORN HOLDER',\n",
    "  'BOX OF VINTAGE ALPHABET BLOCKS',\n",
    "  'PARTY BUNTING',\n",
    "  'JAZZ HEARTS ADDRESS BOOK',\n",
    "  'SET OF 4 SANTA PLACE SETTINGS'],\n",
    " 'Quantity': [1, 24, 1, 2880, 2, 7, 1, 4, 10, 48],\n",
    " 'UnitPrice': [1.65, 0.55, 1.65, 0.18, 1.25, 0.85, 11.95, 4.95, 0.19, 1.25],\n",
    " 'Revenue': [1.65, 13.2, 1.65, 518.4, 2.5, 5.95, 11.95, 19.8, 1.9, 60.0]}"
   ]
  },
  {
   "cell_type": "code",
   "execution_count": 44,
   "metadata": {},
   "outputs": [
    {
     "name": "stdout",
     "output_type": "stream",
     "text": [
      "RangeIndex(start=0, stop=10, step=1)\n",
      "40\n",
      "(10, 4)\n",
      "                          Description  Quantity  UnitPrice  Revenue\n",
      "0              LUNCH BAG APPLE DESIGN         1       1.65     1.65\n",
      "1  SET OF 60 VINTAGE LEAF CAKE CASES         24       0.55    13.20\n",
      "2         RIBBON REEL STRIPES DESIGN          1       1.65     1.65\n",
      "3   WORLD WAR 2 GLIDERS ASSTD DESIGNS      2880       0.18   518.40\n",
      "4    PLAYING CARDS JUBILEE UNION JACK         2       1.25     2.50\n",
      "                      Description  Quantity  UnitPrice  Revenue\n",
      "5                  POPCORN HOLDER         7       0.85     5.95\n",
      "6  BOX OF VINTAGE ALPHABET BLOCKS         1      11.95    11.95\n",
      "7                   PARTY BUNTING         4       4.95    19.80\n",
      "8        JAZZ HEARTS ADDRESS BOOK        10       0.19     1.90\n",
      "9   SET OF 4 SANTA PLACE SETTINGS        48       1.25    60.00\n"
     ]
    }
   ],
   "source": [
    "# your code here\n",
    "\n",
    "df_d = pd.DataFrame(orders)\n",
    "\n",
    "\n",
    "\"\"\"\n",
    "print(df_d.index)   # index\n",
    "print(df_d.size)    # n elementos total \n",
    "print(df_d.shape)   # tamaño de dimensiones\n",
    "print(df_d.head())  # view de los 5 primeros\n",
    "print(df_d.tail())  # view de los 5 ultimos\n",
    "\"\"\""
   ]
  },
  {
   "cell_type": "markdown",
   "metadata": {},
   "source": [
    "#### 11. Calculate the total quantity ordered and revenue generated from these orders."
   ]
  },
  {
   "cell_type": "code",
   "execution_count": 48,
   "metadata": {},
   "outputs": [
    {
     "name": "stdout",
     "output_type": "stream",
     "text": [
      "Total quantity ordered: 2978\n",
      "Total revenue generated: 637.0\n"
     ]
    }
   ],
   "source": [
    "# your code here\n",
    "\n",
    "total_quantity = df_d[\"Quantity\"].sum()\n",
    "print(\"Total quantity ordered:\", total_quantity)\n",
    "\n",
    "total_revenue = df_d[\"Revenue\"].sum()\n",
    "print(\"Total revenue generated:\", total_revenue)\n",
    "\n",
    "# Suma acumulada con groupby para calcular la suma acumulativa de una columna agrupada por información de otras columns:\n",
    "# https://www.delftstack.com/es/howto/python-pandas/how-to-get-the-sum-of-pandas-column/"
   ]
  },
  {
   "cell_type": "markdown",
   "metadata": {},
   "source": [
    "#### 12. Obtain the prices of the most expensive and least expensive items ordered and print the difference."
   ]
  },
  {
   "cell_type": "code",
   "execution_count": 51,
   "metadata": {},
   "outputs": [],
   "source": [
    "# your code here\n",
    "item_max = df_d['UnitPrice'].max()\n",
    "item_min = df_d['UnitPrice'].min()\n",
    "item_difference = item_max - item_min"
   ]
  },
  {
   "cell_type": "code",
   "execution_count": 52,
   "metadata": {},
   "outputs": [
    {
     "name": "stdout",
     "output_type": "stream",
     "text": [
      "11.95\n",
      "0.18\n",
      "11.77\n"
     ]
    }
   ],
   "source": [
    "print(item_max)\n",
    "print(item_min)\n",
    "print(item_difference)"
   ]
  },
  {
   "cell_type": "code",
   "execution_count": 54,
   "metadata": {},
   "outputs": [
    {
     "name": "stdout",
     "output_type": "stream",
     "text": [
      "The differente between 11.95 and 0.18 is 11.77\n"
     ]
    }
   ],
   "source": [
    "print(f'The differente between {item_max} and {item_min} is {item_difference}')"
   ]
  }
 ],
 "metadata": {
  "kernelspec": {
   "display_name": "Python (m1_env)",
   "language": "python",
   "name": "m1_env"
  },
  "language_info": {
   "codemirror_mode": {
    "name": "ipython",
    "version": 3
   },
   "file_extension": ".py",
   "mimetype": "text/x-python",
   "name": "python",
   "nbconvert_exporter": "python",
   "pygments_lexer": "ipython3",
   "version": "3.10.13"
  }
 },
 "nbformat": 4,
 "nbformat_minor": 2
}
