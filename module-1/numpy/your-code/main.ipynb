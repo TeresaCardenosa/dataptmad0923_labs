{
 "cells": [
  {
   "cell_type": "markdown",
   "metadata": {},
   "source": [
    "# Introduction to NumPy\n",
    "\n",
    "\n",
    "#### 1. Import NumPy under the name np."
   ]
  },
  {
   "cell_type": "code",
   "execution_count": 1,
   "metadata": {},
   "outputs": [],
   "source": [
    "# your code here\n",
    "import numpy as np"
   ]
  },
  {
   "cell_type": "markdown",
   "metadata": {},
   "source": [
    "#### 2. Print your NumPy version."
   ]
  },
  {
   "cell_type": "code",
   "execution_count": 2,
   "metadata": {},
   "outputs": [
    {
     "name": "stdout",
     "output_type": "stream",
     "text": [
      "1.25.2\n"
     ]
    }
   ],
   "source": [
    "# your code here\n",
    "print(np.__version__)"
   ]
  },
  {
   "cell_type": "markdown",
   "metadata": {},
   "source": [
    "#### 3. Generate a 2x3x5 3-dimensional array with random values. Assign the array to variable *a*.\n",
    "**Challenge**: there are at least three easy ways that use numpy to generate random arrays. How many ways can you find?"
   ]
  },
  {
   "cell_type": "code",
   "execution_count": 3,
   "metadata": {},
   "outputs": [
    {
     "name": "stdout",
     "output_type": "stream",
     "text": [
      "[[[15 41  8 21  8]\n",
      "  [26  5 14 49 17]\n",
      "  [27 36 49 49 36]]\n",
      "\n",
      " [[42 13 47 22 14]\n",
      "  [39  2 25 25 24]\n",
      "  [25 26 42 28 10]]]\n"
     ]
    }
   ],
   "source": [
    "# Method 1  >> Utilizando el método .random y .randint, indicando el elemento máximo (50) y el tamaño de 2x3x5\n",
    "a = np.random.randint(50, size=(2,3,5))\n",
    "print(a)"
   ]
  },
  {
   "cell_type": "code",
   "execution_count": 4,
   "metadata": {},
   "outputs": [
    {
     "name": "stdout",
     "output_type": "stream",
     "text": [
      "[[[0.66424687 0.44321316 0.08978775 0.93562188 0.5701621 ]\n",
      "  [0.45773528 0.68434771 0.6951847  0.18883321 0.9477974 ]\n",
      "  [0.0937948  0.15944079 0.31390056 0.16215066 0.98650035]]\n",
      "\n",
      " [[0.04193819 0.04384987 0.03107239 0.63033023 0.43879201]\n",
      "  [0.74085339 0.87814301 0.92364584 0.83300642 0.88600459]\n",
      "  [0.76414173 0.35453175 0.54751849 0.0150953  0.39151557]]]\n"
     ]
    }
   ],
   "source": [
    "# Method 2   >> Utilizando el método .random y .rand que, en lugar de forzar a enteros, te devuelve float. \n",
    "a = np.random.rand(2, 3, 5)   \n",
    "print(a)"
   ]
  },
  {
   "cell_type": "code",
   "execution_count": 5,
   "metadata": {},
   "outputs": [
    {
     "name": "stdout",
     "output_type": "stream",
     "text": [
      "[[[0.50336103 0.38183567 0.97739554 0.96833729 0.62246454]\n",
      "  [0.15426175 0.22376015 0.24542921 0.89504881 0.50464471]\n",
      "  [0.05820107 0.37192711 0.81609555 0.65041003 0.35496293]]\n",
      "\n",
      " [[0.24020987 0.67704184 0.22419566 0.79103773 0.54736942]\n",
      "  [0.02312255 0.8448526  0.57469041 0.64723848 0.2053739 ]\n",
      "  [0.18558125 0.77530699 0.49151093 0.62499258 0.92883891]]]\n"
     ]
    }
   ],
   "source": [
    "# Method 3   >>> Utilizando el método .random y .uniform\n",
    "a = np.random.uniform(size=(2, 3, 5))\n",
    "print(a)"
   ]
  },
  {
   "cell_type": "markdown",
   "metadata": {},
   "source": [
    "#### 4. Print *a*.\n"
   ]
  },
  {
   "cell_type": "code",
   "execution_count": 6,
   "metadata": {},
   "outputs": [
    {
     "name": "stdout",
     "output_type": "stream",
     "text": [
      "[[[0.50336103 0.38183567 0.97739554 0.96833729 0.62246454]\n",
      "  [0.15426175 0.22376015 0.24542921 0.89504881 0.50464471]\n",
      "  [0.05820107 0.37192711 0.81609555 0.65041003 0.35496293]]\n",
      "\n",
      " [[0.24020987 0.67704184 0.22419566 0.79103773 0.54736942]\n",
      "  [0.02312255 0.8448526  0.57469041 0.64723848 0.2053739 ]\n",
      "  [0.18558125 0.77530699 0.49151093 0.62499258 0.92883891]]]\n"
     ]
    }
   ],
   "source": [
    "# your code here\n",
    "print(a)"
   ]
  },
  {
   "cell_type": "markdown",
   "metadata": {},
   "source": [
    "#### 5. Create a 5x2x3 3-dimensional array with all values equaling 1. Assign the array to variable *b*."
   ]
  },
  {
   "cell_type": "code",
   "execution_count": 7,
   "metadata": {},
   "outputs": [],
   "source": [
    "# your code here\n",
    "b = np.ones((5,2,3))\n",
    "#print(b.ndim)      # Número dimensiones=3\n",
    "#print(b.shape)     # Forma de la matriz\n"
   ]
  },
  {
   "cell_type": "markdown",
   "metadata": {},
   "source": [
    "#### 6. Print *b*.\n"
   ]
  },
  {
   "cell_type": "code",
   "execution_count": 8,
   "metadata": {},
   "outputs": [
    {
     "name": "stdout",
     "output_type": "stream",
     "text": [
      "[[[1. 1. 1.]\n",
      "  [1. 1. 1.]]\n",
      "\n",
      " [[1. 1. 1.]\n",
      "  [1. 1. 1.]]\n",
      "\n",
      " [[1. 1. 1.]\n",
      "  [1. 1. 1.]]\n",
      "\n",
      " [[1. 1. 1.]\n",
      "  [1. 1. 1.]]\n",
      "\n",
      " [[1. 1. 1.]\n",
      "  [1. 1. 1.]]]\n"
     ]
    }
   ],
   "source": [
    "# your code here\n",
    "print(b)"
   ]
  },
  {
   "cell_type": "markdown",
   "metadata": {},
   "source": [
    "#### 7. Do *a* and *b* have the same size? How do you prove that in Python code?"
   ]
  },
  {
   "cell_type": "code",
   "execution_count": 9,
   "metadata": {},
   "outputs": [
    {
     "name": "stdout",
     "output_type": "stream",
     "text": [
      "30\n",
      "30\n",
      "True\n"
     ]
    }
   ],
   "source": [
    "# your code here\n",
    "print(a.size)\n",
    "print(b.size)\n",
    "print(a.size == b.size)\n",
    "\n",
    "# Yes, is the same size. You can check it by looking at the size attribute with .size"
   ]
  },
  {
   "cell_type": "markdown",
   "metadata": {},
   "source": [
    "#### 8. Are you able to add *a* and *b*? Why or why not?\n"
   ]
  },
  {
   "cell_type": "code",
   "execution_count": 10,
   "metadata": {},
   "outputs": [
    {
     "ename": "ValueError",
     "evalue": "all the input array dimensions except for the concatenation axis must match exactly, but along dimension 1, the array at index 0 has size 3 and the array at index 1 has size 2",
     "output_type": "error",
     "traceback": [
      "\u001b[1;31m---------------------------------------------------------------------------\u001b[0m",
      "\u001b[1;31mValueError\u001b[0m                                Traceback (most recent call last)",
      "Cell \u001b[1;32mIn[10], line 2\u001b[0m\n\u001b[0;32m      1\u001b[0m \u001b[38;5;66;03m# your answer here\u001b[39;00m\n\u001b[1;32m----> 2\u001b[0m c_concat \u001b[38;5;241m=\u001b[39m \u001b[43mnp\u001b[49m\u001b[38;5;241;43m.\u001b[39;49m\u001b[43mconcatenate\u001b[49m\u001b[43m(\u001b[49m\u001b[43m(\u001b[49m\u001b[43ma\u001b[49m\u001b[43m,\u001b[49m\u001b[43m \u001b[49m\u001b[43mb\u001b[49m\u001b[43m)\u001b[49m\u001b[43m)\u001b[49m \u001b[38;5;66;03m# No puedes utilizar .concatenate porque todas las dimensiones deben concidir \u001b[39;00m\n\u001b[0;32m      3\u001b[0m d_add \u001b[38;5;241m=\u001b[39m np\u001b[38;5;241m.\u001b[39madd(a, b)\n",
      "\u001b[1;31mValueError\u001b[0m: all the input array dimensions except for the concatenation axis must match exactly, but along dimension 1, the array at index 0 has size 3 and the array at index 1 has size 2"
     ]
    }
   ],
   "source": [
    "# your answer here\n",
    "c_concat = np.concatenate((a, b)) # No puedes utilizar .concatenate porque todas las dimensiones deben concidir \n",
    "d_add = np.add(a, b)               # Tampoco se pueden sumar por lo mismo, no tienen la misma forma (2,3,5) vs (5,2,3)\n"
   ]
  },
  {
   "cell_type": "markdown",
   "metadata": {},
   "source": [
    "#### 9. Transpose *b* so that it has the same structure of *a* (i.e. become a 2x3x5 array). Assign the transposed array to variable *c*."
   ]
  },
  {
   "cell_type": "code",
   "execution_count": 11,
   "metadata": {},
   "outputs": [
    {
     "name": "stdout",
     "output_type": "stream",
     "text": [
      "[[[1. 1. 1. 1. 1.]\n",
      "  [1. 1. 1. 1. 1.]\n",
      "  [1. 1. 1. 1. 1.]]\n",
      "\n",
      " [[1. 1. 1. 1. 1.]\n",
      "  [1. 1. 1. 1. 1.]\n",
      "  [1. 1. 1. 1. 1.]]]\n"
     ]
    }
   ],
   "source": [
    "# your code here\n",
    "\n",
    "c = b.reshape(2,3,5)\n",
    "print(c)\n",
    "\n",
    "#print(c.ndim)      # Número dimensiones=3\n",
    "#print(c.shape)     # Forma de la matriz"
   ]
  },
  {
   "cell_type": "markdown",
   "metadata": {},
   "source": [
    "#### 10. Try to add *a* and *c*. Now it should work. Assign the sum to variable *d*. But why does it work now?"
   ]
  },
  {
   "cell_type": "code",
   "execution_count": 12,
   "metadata": {},
   "outputs": [
    {
     "name": "stdout",
     "output_type": "stream",
     "text": [
      "[[[1.50336103 1.38183567 1.97739554 1.96833729 1.62246454]\n",
      "  [1.15426175 1.22376015 1.24542921 1.89504881 1.50464471]\n",
      "  [1.05820107 1.37192711 1.81609555 1.65041003 1.35496293]]\n",
      "\n",
      " [[1.24020987 1.67704184 1.22419566 1.79103773 1.54736942]\n",
      "  [1.02312255 1.8448526  1.57469041 1.64723848 1.2053739 ]\n",
      "  [1.18558125 1.77530699 1.49151093 1.62499258 1.92883891]]]\n"
     ]
    }
   ],
   "source": [
    "# your code/answer here\n",
    "d = np.add(a, c)\n",
    "print(d)\n",
    "\n",
    "\n",
    "# He utiliza el método .add para sumar las dos variables. Ahora es posible porque ambas tienen la misma forma. "
   ]
  },
  {
   "cell_type": "markdown",
   "metadata": {},
   "source": [
    "#### 11. Print *a* and *d*. Notice the difference and relation of the two array in terms of the values? Explain."
   ]
  },
  {
   "cell_type": "code",
   "execution_count": 13,
   "metadata": {},
   "outputs": [
    {
     "name": "stdout",
     "output_type": "stream",
     "text": [
      "[[[0.50336103 0.38183567 0.97739554 0.96833729 0.62246454]\n",
      "  [0.15426175 0.22376015 0.24542921 0.89504881 0.50464471]\n",
      "  [0.05820107 0.37192711 0.81609555 0.65041003 0.35496293]]\n",
      "\n",
      " [[0.24020987 0.67704184 0.22419566 0.79103773 0.54736942]\n",
      "  [0.02312255 0.8448526  0.57469041 0.64723848 0.2053739 ]\n",
      "  [0.18558125 0.77530699 0.49151093 0.62499258 0.92883891]]]\n",
      "[[[1.50336103 1.38183567 1.97739554 1.96833729 1.62246454]\n",
      "  [1.15426175 1.22376015 1.24542921 1.89504881 1.50464471]\n",
      "  [1.05820107 1.37192711 1.81609555 1.65041003 1.35496293]]\n",
      "\n",
      " [[1.24020987 1.67704184 1.22419566 1.79103773 1.54736942]\n",
      "  [1.02312255 1.8448526  1.57469041 1.64723848 1.2053739 ]\n",
      "  [1.18558125 1.77530699 1.49151093 1.62499258 1.92883891]]]\n"
     ]
    }
   ],
   "source": [
    "# your code/answer here\n",
    "print(a)\n",
    "print(d)\n",
    "\n",
    "# Tienen el mismo número de elementos y la misma forma. Únicamente los valores en d son la suma de la a + 1"
   ]
  },
  {
   "cell_type": "markdown",
   "metadata": {},
   "source": [
    "#### 12. Multiply *a* and *c*. Assign the result to *e*."
   ]
  },
  {
   "cell_type": "code",
   "execution_count": 14,
   "metadata": {},
   "outputs": [
    {
     "name": "stdout",
     "output_type": "stream",
     "text": [
      "[[[0.50336103 0.38183567 0.97739554 0.96833729 0.62246454]\n",
      "  [0.15426175 0.22376015 0.24542921 0.89504881 0.50464471]\n",
      "  [0.05820107 0.37192711 0.81609555 0.65041003 0.35496293]]\n",
      "\n",
      " [[0.24020987 0.67704184 0.22419566 0.79103773 0.54736942]\n",
      "  [0.02312255 0.8448526  0.57469041 0.64723848 0.2053739 ]\n",
      "  [0.18558125 0.77530699 0.49151093 0.62499258 0.92883891]]]\n"
     ]
    }
   ],
   "source": [
    "# your code here\n",
    "e = np.multiply(a,c)\n",
    "print(e)"
   ]
  },
  {
   "cell_type": "markdown",
   "metadata": {},
   "source": [
    "#### 13. Does *e* equal to *a*? Why or why not?\n"
   ]
  },
  {
   "cell_type": "code",
   "execution_count": 15,
   "metadata": {},
   "outputs": [
    {
     "name": "stdout",
     "output_type": "stream",
     "text": [
      "[[[0.50336103 0.38183567 0.97739554 0.96833729 0.62246454]\n",
      "  [0.15426175 0.22376015 0.24542921 0.89504881 0.50464471]\n",
      "  [0.05820107 0.37192711 0.81609555 0.65041003 0.35496293]]\n",
      "\n",
      " [[0.24020987 0.67704184 0.22419566 0.79103773 0.54736942]\n",
      "  [0.02312255 0.8448526  0.57469041 0.64723848 0.2053739 ]\n",
      "  [0.18558125 0.77530699 0.49151093 0.62499258 0.92883891]]]\n",
      "[[[0.50336103 0.38183567 0.97739554 0.96833729 0.62246454]\n",
      "  [0.15426175 0.22376015 0.24542921 0.89504881 0.50464471]\n",
      "  [0.05820107 0.37192711 0.81609555 0.65041003 0.35496293]]\n",
      "\n",
      " [[0.24020987 0.67704184 0.22419566 0.79103773 0.54736942]\n",
      "  [0.02312255 0.8448526  0.57469041 0.64723848 0.2053739 ]\n",
      "  [0.18558125 0.77530699 0.49151093 0.62499258 0.92883891]]]\n",
      "[[[ True  True  True  True  True]\n",
      "  [ True  True  True  True  True]\n",
      "  [ True  True  True  True  True]]\n",
      "\n",
      " [[ True  True  True  True  True]\n",
      "  [ True  True  True  True  True]\n",
      "  [ True  True  True  True  True]]]\n"
     ]
    }
   ],
   "source": [
    "# your code/answer here\n",
    "print(a)\n",
    "print(e)\n",
    "print(a == e)\n",
    "\n",
    "# Sí, porque al multiplicarlo x 1 devuelve el mismo resultado. "
   ]
  },
  {
   "cell_type": "markdown",
   "metadata": {},
   "source": [
    "#### 14. Identify the max, min, and mean values in *d*. Assign those values to variables *d_max*, *d_min* and *d_mean*."
   ]
  },
  {
   "cell_type": "code",
   "execution_count": 16,
   "metadata": {},
   "outputs": [
    {
     "name": "stdout",
     "output_type": "stream",
     "text": [
      "[[[1.50336103 1.38183567 1.97739554 1.96833729 1.62246454]\n",
      "  [1.15426175 1.22376015 1.24542921 1.89504881 1.50464471]\n",
      "  [1.05820107 1.37192711 1.81609555 1.65041003 1.35496293]]\n",
      "\n",
      " [[1.24020987 1.67704184 1.22419566 1.79103773 1.54736942]\n",
      "  [1.02312255 1.8448526  1.57469041 1.64723848 1.2053739 ]\n",
      "  [1.18558125 1.77530699 1.49151093 1.62499258 1.92883891]]]\n",
      "1.9773955396915817\n",
      "1.0231225499560253\n",
      "1.5169832827607996\n"
     ]
    }
   ],
   "source": [
    "# your code here\n",
    "print(d)\n",
    "\n",
    "d_max = np.array(d.max())\n",
    "print(d_max)\n",
    "\n",
    "d_min = np.array(d.min())\n",
    "print(d_min)\n",
    "\n",
    "d_mean = np.array(d.mean())\n",
    "print(d_mean)"
   ]
  },
  {
   "cell_type": "markdown",
   "metadata": {},
   "source": [
    "#### 15. Now we want to label the values in *d*. First create an empty array *f* with the same shape (i.e. 2x3x5) as *d* using `np.empty`.\n"
   ]
  },
  {
   "cell_type": "code",
   "execution_count": 17,
   "metadata": {},
   "outputs": [
    {
     "name": "stdout",
     "output_type": "stream",
     "text": [
      "[[[1.50336103 1.38183567 1.97739554 1.96833729 1.62246454]\n",
      "  [1.15426175 1.22376015 1.24542921 1.89504881 1.50464471]\n",
      "  [1.05820107 1.37192711 1.81609555 1.65041003 1.35496293]]\n",
      "\n",
      " [[1.24020987 1.67704184 1.22419566 1.79103773 1.54736942]\n",
      "  [1.02312255 1.8448526  1.57469041 1.64723848 1.2053739 ]\n",
      "  [1.18558125 1.77530699 1.49151093 1.62499258 1.92883891]]]\n"
     ]
    }
   ],
   "source": [
    "# your code here\n",
    "f = np.empty((2,3,5))\n",
    "print(f)"
   ]
  },
  {
   "cell_type": "markdown",
   "metadata": {},
   "source": [
    "#### 16. Populate the values in *f*. \n",
    "\n",
    "For each value in *d*, if it's larger than *d_min* but smaller than *d_mean*, assign 25 to the corresponding value in *f*. If a value in *d* is larger than *d_mean* but smaller than *d_max*, assign 75 to the corresponding value in *f*. If a value equals to *d_mean*, assign 50 to the corresponding value in *f*. Assign 0 to the corresponding value(s) in *f* for *d_min* in *d*. Assign 100 to the corresponding value(s) in *f* for *d_max* in *d*. In the end, f should have only the following values: 0, 25, 50, 75, and 100.\n",
    "\n",
    "**Note**: you don't have to use Numpy in this question."
   ]
  },
  {
   "cell_type": "code",
   "execution_count": 25,
   "metadata": {},
   "outputs": [
    {
     "data": {
      "text/plain": [
       "array([1.15426175, 1.22376015, 1.24542921, 1.89504881, 1.50464471])"
      ]
     },
     "execution_count": 25,
     "metadata": {},
     "output_type": "execute_result"
    }
   ],
   "source": [
    "d[0,0,:]"
   ]
  },
  {
   "cell_type": "code",
   "execution_count": 30,
   "metadata": {},
   "outputs": [
    {
     "ename": "TypeError",
     "evalue": "'builtin_function_or_method' object does not support item assignment",
     "output_type": "error",
     "traceback": [
      "\u001b[1;31m---------------------------------------------------------------------------\u001b[0m",
      "\u001b[1;31mTypeError\u001b[0m                                 Traceback (most recent call last)",
      "Cell \u001b[1;32mIn[30], line 5\u001b[0m\n\u001b[0;32m      3\u001b[0m \u001b[38;5;28;01mfor\u001b[39;00m i \u001b[38;5;129;01min\u001b[39;00m d[\u001b[38;5;241m0\u001b[39m,\u001b[38;5;241m0\u001b[39m,:]:\n\u001b[0;32m      4\u001b[0m     \u001b[38;5;28;01mif\u001b[39;00m i \u001b[38;5;241m>\u001b[39m d_min \u001b[38;5;129;01mand\u001b[39;00m i \u001b[38;5;241m<\u001b[39m d_mean:\n\u001b[1;32m----> 5\u001b[0m         f\u001b[38;5;241m.\u001b[39mput[var1] \u001b[38;5;241m=\u001b[39m \u001b[38;5;241m25\u001b[39m\n\u001b[0;32m      7\u001b[0m \u001b[38;5;28mprint\u001b[39m(f)\n",
      "\u001b[1;31mTypeError\u001b[0m: 'builtin_function_or_method' object does not support item assignment"
     ]
    }
   ],
   "source": [
    "var1 = f[0,0,:]\n",
    "\n",
    "for i in d[0,0,:]:\n",
    "    if i > d_min and i < d_mean:\n",
    "        f.put[var1] = 25\n",
    "\n",
    "print(f)"
   ]
  },
  {
   "cell_type": "code",
   "execution_count": 36,
   "metadata": {},
   "outputs": [
    {
     "data": {
      "text/plain": [
       "range(0, 2)"
      ]
     },
     "execution_count": 36,
     "metadata": {},
     "output_type": "execute_result"
    }
   ],
   "source": [
    "range(d.shape[0])"
   ]
  },
  {
   "cell_type": "code",
   "execution_count": 35,
   "metadata": {},
   "outputs": [
    {
     "name": "stdout",
     "output_type": "stream",
     "text": [
      "[[[ 25.  25. 100.  75.  75.]\n",
      "  [ 25.  25.  25.  75.  25.]\n",
      "  [ 25.  25.  75.  75.  25.]]\n",
      "\n",
      " [[ 25.  75.  25.  75.  75.]\n",
      "  [  0.  75.  75.  75.  25.]\n",
      "  [ 25.  75.  25.  75.  75.]]]\n"
     ]
    },
    {
     "data": {
      "text/plain": [
       "'\\n# Primero completo f como una copia de d \\nf_copy = d.copy()\\n# print(f)\\n\\n# Segundo paso la array como una lista f para poder iterar\\nf_list = f_copy.tolist()\\n#print(f_list)\\n\\n\\n\\n\\ng = []\\nfor value in f_list: \\n    if (value > d_min and value < d_mean):\\n        g.append(25) \\n    elif (value > d_mean and value < d_max):\\n        g.append(75)\\n    elif value == d_mean:\\n        g.append(50)\\n    elif value == d_min:\\n        g.append(0)\\n    else: \\n        g.append(100)\\n\\nprint(g)\\n'"
      ]
     },
     "execution_count": 35,
     "metadata": {},
     "output_type": "execute_result"
    }
   ],
   "source": [
    "# your code here\n",
    "#print(d)\n",
    "\n",
    "for i in range(d.shape[0]):\n",
    "    for j in range(d.shape[1]):\n",
    "        for k in range(d.shape[2]):\n",
    "            if d[i, j, k] == d_min:\n",
    "                f[i, j, k] = 0\n",
    "            elif d[i, j, k] == d_max:\n",
    "                f[i, j, k] = 100\n",
    "            elif d[i, j, k] == d_mean:\n",
    "                f[i, j, k] = 50\n",
    "            elif d[i, j, k] > d_min and d[i, j, k] < d_mean:\n",
    "                f[i, j, k] = 25\n",
    "            else: \n",
    "                f[i, j, k] = 75\n",
    "            \n",
    "print(f)\n"
   ]
  },
  {
   "cell_type": "markdown",
   "metadata": {},
   "source": [
    "#### 17. Print *d* and *f*. Do you have your expected *f*?\n",
    "For instance, if your *d* is:\n",
    "```python\n",
    "[[[1.85836099, 1.67064465, 1.62576044, 1.40243961, 1.88454931],\n",
    "[1.75354326, 1.69403643, 1.36729252, 1.61415071, 1.12104981],\n",
    "[1.72201435, 1.1862918 , 1.87078449, 1.7726778 , 1.88180042]],\n",
    "[[1.44747908, 1.31673383, 1.02000951, 1.52218947, 1.97066381],\n",
    "[1.79129243, 1.74983003, 1.96028037, 1.85166831, 1.65450881],\n",
    "[1.18068344, 1.9587381 , 1.00656599, 1.93402165, 1.73514584]]]\n",
    "```\n",
    "Your *f* should be:\n",
    "```python\n",
    "[[[ 75.,  75.,  75.,  25.,  75.],\n",
    "[ 75.,  75.,  25.,  25.,  25.],\n",
    "[ 75.,  25.,  75.,  75.,  75.]],\n",
    "[[ 25.,  25.,  25.,  25., 100.],\n",
    "[ 75.,  75.,  75.,  75.,  75.],\n",
    "[ 25.,  75.,   0.,  75.,  75.]]]\n",
    "```"
   ]
  },
  {
   "cell_type": "code",
   "execution_count": null,
   "metadata": {},
   "outputs": [],
   "source": [
    "# your code here\n",
    "print(d)\n",
    "print(f)  # Más o menos, tiene la misma forma pero no tiene los mismos números, hay algo que falló en la iteración"
   ]
  },
  {
   "cell_type": "markdown",
   "metadata": {},
   "source": [
    "#### 18. Bonus question: instead of using numbers (i.e. 0, 25, 50, 75, and 100), use string values  (\"A\", \"B\", \"C\", \"D\", and \"E\") to label the array elements. For the example above, the expected result is:\n",
    "\n",
    "```python\n",
    "[[[ 'D',  'D',  'D',  'B',  'D'],\n",
    "[ 'D',  'D',  'B',  'B',  'B'],\n",
    "[ 'D',  'B',  'D',  'D',  'D']],\n",
    "[[ 'B',  'B',  'B',  'B',  'E'],\n",
    "[ 'D',  'D',  'D',  'D',  'D'],\n",
    "[ 'B',  'D',   'A',  'D', 'D']]]\n",
    "```\n",
    "**Note**: you don't have to use Numpy in this question."
   ]
  },
  {
   "cell_type": "code",
   "execution_count": null,
   "metadata": {},
   "outputs": [],
   "source": [
    "# your code here"
   ]
  },
  {
   "cell_type": "code",
   "execution_count": null,
   "metadata": {},
   "outputs": [],
   "source": []
  }
 ],
 "metadata": {
  "kernelspec": {
   "display_name": "Python 3 (ipykernel)",
   "language": "python",
   "name": "python3"
  },
  "language_info": {
   "codemirror_mode": {
    "name": "ipython",
    "version": 3
   },
   "file_extension": ".py",
   "mimetype": "text/x-python",
   "name": "python",
   "nbconvert_exporter": "python",
   "pygments_lexer": "ipython3",
   "version": "3.10.13"
  }
 },
 "nbformat": 4,
 "nbformat_minor": 2
}
