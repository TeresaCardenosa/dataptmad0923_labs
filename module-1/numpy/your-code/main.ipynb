{
 "cells": [
  {
   "cell_type": "markdown",
   "metadata": {},
   "source": [
    "# Introduction to NumPy\n",
    "\n",
    "\n",
    "#### 1. Import NumPy under the name np."
   ]
  },
  {
   "cell_type": "code",
   "execution_count": 1,
   "metadata": {},
   "outputs": [],
   "source": [
    "# your code here\n",
    "import numpy as np"
   ]
  },
  {
   "cell_type": "markdown",
   "metadata": {},
   "source": [
    "#### 2. Print your NumPy version."
   ]
  },
  {
   "cell_type": "code",
   "execution_count": 2,
   "metadata": {},
   "outputs": [
    {
     "name": "stdout",
     "output_type": "stream",
     "text": [
      "1.25.2\n"
     ]
    }
   ],
   "source": [
    "# your code here\n",
    "print(np.__version__)"
   ]
  },
  {
   "cell_type": "markdown",
   "metadata": {},
   "source": [
    "#### 3. Generate a 2x3x5 3-dimensional array with random values. Assign the array to variable *a*.\n",
    "**Challenge**: there are at least three easy ways that use numpy to generate random arrays. How many ways can you find?"
   ]
  },
  {
   "cell_type": "code",
   "execution_count": 57,
   "metadata": {},
   "outputs": [
    {
     "name": "stdout",
     "output_type": "stream",
     "text": [
      "[[[24 30 20  7 48]\n",
      "  [43 32 47 46 19]\n",
      "  [ 3 29 15 40 10]]\n",
      "\n",
      " [[12 11  6 41 33]\n",
      "  [12 35 41 11 16]\n",
      "  [16 34  5 37  9]]]\n"
     ]
    }
   ],
   "source": [
    "# Method 1  >> Utilizando el método .random y .randint, indicando el elemento máximo (50) y el tamaño de 2x3x5\n",
    "a = np.random.randint(50, size=(2,3,5))\n",
    "print(a)"
   ]
  },
  {
   "cell_type": "code",
   "execution_count": 58,
   "metadata": {},
   "outputs": [
    {
     "name": "stdout",
     "output_type": "stream",
     "text": [
      "[[[0.35635005 0.06659302 0.43805997 0.88841131 0.96445228]\n",
      "  [0.79070032 0.87981317 0.90531329 0.41034586 0.55678433]\n",
      "  [0.53644511 0.17276798 0.83819897 0.34595039 0.47249003]]\n",
      "\n",
      " [[0.31852313 0.09843757 0.50198007 0.35360374 0.84259849]\n",
      "  [0.85421154 0.85121072 0.67830229 0.60576122 0.44354347]\n",
      "  [0.34360622 0.92238385 0.40990567 0.72403246 0.42061712]]]\n"
     ]
    }
   ],
   "source": [
    "# Method 2   >> Utilizando el método .random y .rand que, en lugar de forzar a enteros, te devuelve float. \n",
    "a = np.random.rand(2, 3, 5)   \n",
    "print(a)"
   ]
  },
  {
   "cell_type": "code",
   "execution_count": 59,
   "metadata": {},
   "outputs": [
    {
     "name": "stdout",
     "output_type": "stream",
     "text": [
      "[[[0.57014602 0.698741   0.34263806 0.03074618 0.834281  ]\n",
      "  [0.02583447 0.51025187 0.75347332 0.77734876 0.19390622]\n",
      "  [0.81871682 0.517811   0.63422553 0.75789412 0.41675054]]\n",
      "\n",
      " [[0.20052381 0.06483712 0.5076533  0.32185213 0.56838209]\n",
      "  [0.07331055 0.53365962 0.27510891 0.12160117 0.58981696]\n",
      "  [0.24071683 0.18970979 0.61568258 0.08615558 0.27807235]]]\n"
     ]
    }
   ],
   "source": [
    "# Method 3   >>> Utilizando el método .random y .uniform\n",
    "a = np.random.uniform(size=(2, 3, 5))\n",
    "print(a)"
   ]
  },
  {
   "cell_type": "markdown",
   "metadata": {},
   "source": [
    "#### 4. Print *a*.\n"
   ]
  },
  {
   "cell_type": "code",
   "execution_count": 60,
   "metadata": {},
   "outputs": [
    {
     "name": "stdout",
     "output_type": "stream",
     "text": [
      "[[[0.57014602 0.698741   0.34263806 0.03074618 0.834281  ]\n",
      "  [0.02583447 0.51025187 0.75347332 0.77734876 0.19390622]\n",
      "  [0.81871682 0.517811   0.63422553 0.75789412 0.41675054]]\n",
      "\n",
      " [[0.20052381 0.06483712 0.5076533  0.32185213 0.56838209]\n",
      "  [0.07331055 0.53365962 0.27510891 0.12160117 0.58981696]\n",
      "  [0.24071683 0.18970979 0.61568258 0.08615558 0.27807235]]]\n"
     ]
    }
   ],
   "source": [
    "# your code here\n",
    "print(a)"
   ]
  },
  {
   "cell_type": "markdown",
   "metadata": {},
   "source": [
    "#### 5. Create a 5x2x3 3-dimensional array with all values equaling 1. Assign the array to variable *b*."
   ]
  },
  {
   "cell_type": "code",
   "execution_count": 61,
   "metadata": {},
   "outputs": [],
   "source": [
    "# your code here\n",
    "b = np.ones((5,2,3))\n",
    "#print(b.ndim)      # Número dimensiones=3\n",
    "#print(b.shape)     # Forma de la matriz\n"
   ]
  },
  {
   "cell_type": "markdown",
   "metadata": {},
   "source": [
    "#### 6. Print *b*.\n"
   ]
  },
  {
   "cell_type": "code",
   "execution_count": 62,
   "metadata": {},
   "outputs": [
    {
     "name": "stdout",
     "output_type": "stream",
     "text": [
      "[[[1. 1. 1.]\n",
      "  [1. 1. 1.]]\n",
      "\n",
      " [[1. 1. 1.]\n",
      "  [1. 1. 1.]]\n",
      "\n",
      " [[1. 1. 1.]\n",
      "  [1. 1. 1.]]\n",
      "\n",
      " [[1. 1. 1.]\n",
      "  [1. 1. 1.]]\n",
      "\n",
      " [[1. 1. 1.]\n",
      "  [1. 1. 1.]]]\n"
     ]
    }
   ],
   "source": [
    "# your code here\n",
    "print(b)"
   ]
  },
  {
   "cell_type": "markdown",
   "metadata": {},
   "source": [
    "#### 7. Do *a* and *b* have the same size? How do you prove that in Python code?"
   ]
  },
  {
   "cell_type": "code",
   "execution_count": 63,
   "metadata": {},
   "outputs": [
    {
     "name": "stdout",
     "output_type": "stream",
     "text": [
      "30\n",
      "30\n",
      "True\n"
     ]
    }
   ],
   "source": [
    "# your code here\n",
    "print(a.size)\n",
    "print(b.size)\n",
    "print(a.size == b.size)\n",
    "\n",
    "# Yes, is the same size. You can check it by looking at the size attribute with .size"
   ]
  },
  {
   "cell_type": "markdown",
   "metadata": {},
   "source": [
    "#### 8. Are you able to add *a* and *b*? Why or why not?\n"
   ]
  },
  {
   "cell_type": "code",
   "execution_count": 64,
   "metadata": {},
   "outputs": [
    {
     "ename": "ValueError",
     "evalue": "all the input array dimensions except for the concatenation axis must match exactly, but along dimension 1, the array at index 0 has size 3 and the array at index 1 has size 2",
     "output_type": "error",
     "traceback": [
      "\u001b[1;31m---------------------------------------------------------------------------\u001b[0m",
      "\u001b[1;31mValueError\u001b[0m                                Traceback (most recent call last)",
      "Cell \u001b[1;32mIn[64], line 2\u001b[0m\n\u001b[0;32m      1\u001b[0m \u001b[38;5;66;03m# your answer here\u001b[39;00m\n\u001b[1;32m----> 2\u001b[0m c_concat \u001b[38;5;241m=\u001b[39m \u001b[43mnp\u001b[49m\u001b[38;5;241;43m.\u001b[39;49m\u001b[43mconcatenate\u001b[49m\u001b[43m(\u001b[49m\u001b[43m(\u001b[49m\u001b[43ma\u001b[49m\u001b[43m,\u001b[49m\u001b[43m \u001b[49m\u001b[43mb\u001b[49m\u001b[43m)\u001b[49m\u001b[43m)\u001b[49m \u001b[38;5;66;03m# No puedes utilizar .concatenate porque todas las dimensiones deben concidir \u001b[39;00m\n\u001b[0;32m      3\u001b[0m d_add \u001b[38;5;241m=\u001b[39m np\u001b[38;5;241m.\u001b[39madd(a, b)\n",
      "\u001b[1;31mValueError\u001b[0m: all the input array dimensions except for the concatenation axis must match exactly, but along dimension 1, the array at index 0 has size 3 and the array at index 1 has size 2"
     ]
    }
   ],
   "source": [
    "# your answer here\n",
    "c_concat = np.concatenate((a, b)) # No puedes utilizar .concatenate porque todas las dimensiones deben concidir \n",
    "d_add = np.add(a, b)               # Tampoco se pueden sumar por lo mismo, no tienen la misma forma (2,3,5) vs (5,2,3)\n"
   ]
  },
  {
   "cell_type": "markdown",
   "metadata": {},
   "source": [
    "#### 9. Transpose *b* so that it has the same structure of *a* (i.e. become a 2x3x5 array). Assign the transposed array to variable *c*."
   ]
  },
  {
   "cell_type": "code",
   "execution_count": 65,
   "metadata": {},
   "outputs": [
    {
     "name": "stdout",
     "output_type": "stream",
     "text": [
      "[[[1. 1. 1. 1. 1.]\n",
      "  [1. 1. 1. 1. 1.]\n",
      "  [1. 1. 1. 1. 1.]]\n",
      "\n",
      " [[1. 1. 1. 1. 1.]\n",
      "  [1. 1. 1. 1. 1.]\n",
      "  [1. 1. 1. 1. 1.]]]\n"
     ]
    }
   ],
   "source": [
    "# your code here\n",
    "\n",
    "c = b.reshape(2,3,5)\n",
    "print(c)\n",
    "\n",
    "#print(c.ndim)      # Número dimensiones=3\n",
    "#print(c.shape)     # Forma de la matriz"
   ]
  },
  {
   "cell_type": "markdown",
   "metadata": {},
   "source": [
    "#### 10. Try to add *a* and *c*. Now it should work. Assign the sum to variable *d*. But why does it work now?"
   ]
  },
  {
   "cell_type": "code",
   "execution_count": 66,
   "metadata": {},
   "outputs": [
    {
     "name": "stdout",
     "output_type": "stream",
     "text": [
      "[[[1.57014602 1.698741   1.34263806 1.03074618 1.834281  ]\n",
      "  [1.02583447 1.51025187 1.75347332 1.77734876 1.19390622]\n",
      "  [1.81871682 1.517811   1.63422553 1.75789412 1.41675054]]\n",
      "\n",
      " [[1.20052381 1.06483712 1.5076533  1.32185213 1.56838209]\n",
      "  [1.07331055 1.53365962 1.27510891 1.12160117 1.58981696]\n",
      "  [1.24071683 1.18970979 1.61568258 1.08615558 1.27807235]]]\n"
     ]
    }
   ],
   "source": [
    "# your code/answer here\n",
    "d = np.add(a, c)\n",
    "print(d)\n",
    "\n",
    "\n",
    "# He utiliza el método .add para sumar las dos variables. Ahora es posible porque ambas tienen la misma forma. "
   ]
  },
  {
   "cell_type": "markdown",
   "metadata": {},
   "source": [
    "#### 11. Print *a* and *d*. Notice the difference and relation of the two array in terms of the values? Explain."
   ]
  },
  {
   "cell_type": "code",
   "execution_count": 67,
   "metadata": {},
   "outputs": [
    {
     "name": "stdout",
     "output_type": "stream",
     "text": [
      "[[[0.57014602 0.698741   0.34263806 0.03074618 0.834281  ]\n",
      "  [0.02583447 0.51025187 0.75347332 0.77734876 0.19390622]\n",
      "  [0.81871682 0.517811   0.63422553 0.75789412 0.41675054]]\n",
      "\n",
      " [[0.20052381 0.06483712 0.5076533  0.32185213 0.56838209]\n",
      "  [0.07331055 0.53365962 0.27510891 0.12160117 0.58981696]\n",
      "  [0.24071683 0.18970979 0.61568258 0.08615558 0.27807235]]]\n",
      "[[[1.57014602 1.698741   1.34263806 1.03074618 1.834281  ]\n",
      "  [1.02583447 1.51025187 1.75347332 1.77734876 1.19390622]\n",
      "  [1.81871682 1.517811   1.63422553 1.75789412 1.41675054]]\n",
      "\n",
      " [[1.20052381 1.06483712 1.5076533  1.32185213 1.56838209]\n",
      "  [1.07331055 1.53365962 1.27510891 1.12160117 1.58981696]\n",
      "  [1.24071683 1.18970979 1.61568258 1.08615558 1.27807235]]]\n"
     ]
    }
   ],
   "source": [
    "# your code/answer here\n",
    "print(a)\n",
    "print(d)\n",
    "\n",
    "# Tienen el mismo número de elementos y la misma forma. Únicamente los valores en d son la suma de la a + 1"
   ]
  },
  {
   "cell_type": "markdown",
   "metadata": {},
   "source": [
    "#### 12. Multiply *a* and *c*. Assign the result to *e*."
   ]
  },
  {
   "cell_type": "code",
   "execution_count": 68,
   "metadata": {},
   "outputs": [
    {
     "name": "stdout",
     "output_type": "stream",
     "text": [
      "[[[0.57014602 0.698741   0.34263806 0.03074618 0.834281  ]\n",
      "  [0.02583447 0.51025187 0.75347332 0.77734876 0.19390622]\n",
      "  [0.81871682 0.517811   0.63422553 0.75789412 0.41675054]]\n",
      "\n",
      " [[0.20052381 0.06483712 0.5076533  0.32185213 0.56838209]\n",
      "  [0.07331055 0.53365962 0.27510891 0.12160117 0.58981696]\n",
      "  [0.24071683 0.18970979 0.61568258 0.08615558 0.27807235]]]\n"
     ]
    }
   ],
   "source": [
    "# your code here\n",
    "e = np.multiply(a,c)\n",
    "print(e)"
   ]
  },
  {
   "cell_type": "markdown",
   "metadata": {},
   "source": [
    "#### 13. Does *e* equal to *a*? Why or why not?\n"
   ]
  },
  {
   "cell_type": "code",
   "execution_count": 69,
   "metadata": {},
   "outputs": [
    {
     "name": "stdout",
     "output_type": "stream",
     "text": [
      "[[[0.57014602 0.698741   0.34263806 0.03074618 0.834281  ]\n",
      "  [0.02583447 0.51025187 0.75347332 0.77734876 0.19390622]\n",
      "  [0.81871682 0.517811   0.63422553 0.75789412 0.41675054]]\n",
      "\n",
      " [[0.20052381 0.06483712 0.5076533  0.32185213 0.56838209]\n",
      "  [0.07331055 0.53365962 0.27510891 0.12160117 0.58981696]\n",
      "  [0.24071683 0.18970979 0.61568258 0.08615558 0.27807235]]]\n",
      "[[[0.57014602 0.698741   0.34263806 0.03074618 0.834281  ]\n",
      "  [0.02583447 0.51025187 0.75347332 0.77734876 0.19390622]\n",
      "  [0.81871682 0.517811   0.63422553 0.75789412 0.41675054]]\n",
      "\n",
      " [[0.20052381 0.06483712 0.5076533  0.32185213 0.56838209]\n",
      "  [0.07331055 0.53365962 0.27510891 0.12160117 0.58981696]\n",
      "  [0.24071683 0.18970979 0.61568258 0.08615558 0.27807235]]]\n",
      "[[[ True  True  True  True  True]\n",
      "  [ True  True  True  True  True]\n",
      "  [ True  True  True  True  True]]\n",
      "\n",
      " [[ True  True  True  True  True]\n",
      "  [ True  True  True  True  True]\n",
      "  [ True  True  True  True  True]]]\n"
     ]
    }
   ],
   "source": [
    "# your code/answer here\n",
    "print(a)\n",
    "print(e)\n",
    "print(a == e)\n",
    "\n",
    "# Sí, porque al multiplicarlo x 1 devuelve el mismo resultado. "
   ]
  },
  {
   "cell_type": "markdown",
   "metadata": {},
   "source": [
    "#### 14. Identify the max, min, and mean values in *d*. Assign those values to variables *d_max*, *d_min* and *d_mean*."
   ]
  },
  {
   "cell_type": "code",
   "execution_count": 70,
   "metadata": {},
   "outputs": [
    {
     "name": "stdout",
     "output_type": "stream",
     "text": [
      "[[[1.57014602 1.698741   1.34263806 1.03074618 1.834281  ]\n",
      "  [1.02583447 1.51025187 1.75347332 1.77734876 1.19390622]\n",
      "  [1.81871682 1.517811   1.63422553 1.75789412 1.41675054]]\n",
      "\n",
      " [[1.20052381 1.06483712 1.5076533  1.32185213 1.56838209]\n",
      "  [1.07331055 1.53365962 1.27510891 1.12160117 1.58981696]\n",
      "  [1.24071683 1.18970979 1.61568258 1.08615558 1.27807235]]]\n",
      "1.8342810041955278\n",
      "1.025834469518743\n",
      "1.4183282574536136\n"
     ]
    }
   ],
   "source": [
    "# your code here\n",
    "print(d)\n",
    "\n",
    "d_max = np.array(d.max())\n",
    "print(d_max)\n",
    "\n",
    "d_min = np.array(d.min())\n",
    "print(d_min)\n",
    "\n",
    "d_mean = np.array(d.mean())\n",
    "print(d_mean)"
   ]
  },
  {
   "cell_type": "markdown",
   "metadata": {},
   "source": [
    "#### 15. Now we want to label the values in *d*. First create an empty array *f* with the same shape (i.e. 2x3x5) as *d* using `np.empty`.\n"
   ]
  },
  {
   "cell_type": "code",
   "execution_count": 71,
   "metadata": {},
   "outputs": [
    {
     "name": "stdout",
     "output_type": "stream",
     "text": [
      "[[[1.57014602 1.698741   1.34263806 1.03074618 1.834281  ]\n",
      "  [1.02583447 1.51025187 1.75347332 1.77734876 1.19390622]\n",
      "  [1.81871682 1.517811   1.63422553 1.75789412 1.41675054]]\n",
      "\n",
      " [[1.20052381 1.06483712 1.5076533  1.32185213 1.56838209]\n",
      "  [1.07331055 1.53365962 1.27510891 1.12160117 1.58981696]\n",
      "  [1.24071683 1.18970979 1.61568258 1.08615558 1.27807235]]]\n"
     ]
    }
   ],
   "source": [
    "# your code here\n",
    "f = np.empty((2,3,5))\n",
    "print(f)"
   ]
  },
  {
   "cell_type": "markdown",
   "metadata": {},
   "source": [
    "#### 16. Populate the values in *f*. \n",
    "\n",
    "For each value in *d*, if it's larger than *d_min* but smaller than *d_mean*, assign 25 to the corresponding value in *f*. If a value in *d* is larger than *d_mean* but smaller than *d_max*, assign 75 to the corresponding value in *f*. If a value equals to *d_mean*, assign 50 to the corresponding value in *f*. Assign 0 to the corresponding value(s) in *f* for *d_min* in *d*. Assign 100 to the corresponding value(s) in *f* for *d_max* in *d*. In the end, f should have only the following values: 0, 25, 50, 75, and 100.\n",
    "\n",
    "**Note**: you don't have to use Numpy in this question."
   ]
  },
  {
   "cell_type": "code",
   "execution_count": 72,
   "metadata": {},
   "outputs": [
    {
     "name": "stdout",
     "output_type": "stream",
     "text": [
      "[[[1.57014602 1.698741   1.34263806 1.03074618 1.834281  ]\n",
      "  [1.02583447 1.51025187 1.75347332 1.77734876 1.19390622]\n",
      "  [1.81871682 1.517811   1.63422553 1.75789412 1.41675054]]\n",
      "\n",
      " [[1.20052381 1.06483712 1.5076533  1.32185213 1.56838209]\n",
      "  [1.07331055 1.53365962 1.27510891 1.12160117 1.58981696]\n",
      "  [1.24071683 1.18970979 1.61568258 1.08615558 1.27807235]]]\n"
     ]
    }
   ],
   "source": [
    "mask_mean = d == d_mean\n",
    "f[mask_mean] = 50\n",
    "print(f)"
   ]
  },
  {
   "cell_type": "code",
   "execution_count": 73,
   "metadata": {},
   "outputs": [
    {
     "name": "stdout",
     "output_type": "stream",
     "text": [
      "[[[1.57014602 1.698741   1.34263806 1.03074618 1.834281  ]\n",
      "  [0.         1.51025187 1.75347332 1.77734876 1.19390622]\n",
      "  [1.81871682 1.517811   1.63422553 1.75789412 1.41675054]]\n",
      "\n",
      " [[1.20052381 1.06483712 1.5076533  1.32185213 1.56838209]\n",
      "  [1.07331055 1.53365962 1.27510891 1.12160117 1.58981696]\n",
      "  [1.24071683 1.18970979 1.61568258 1.08615558 1.27807235]]]\n"
     ]
    }
   ],
   "source": [
    "mask_min = d == d_min\n",
    "f[mask_min] = 0\n",
    "print(f)"
   ]
  },
  {
   "cell_type": "code",
   "execution_count": 74,
   "metadata": {},
   "outputs": [
    {
     "name": "stdout",
     "output_type": "stream",
     "text": [
      "[[[  1.57014602   1.698741     1.34263806   1.03074618 100.        ]\n",
      "  [  0.           1.51025187   1.75347332   1.77734876   1.19390622]\n",
      "  [  1.81871682   1.517811     1.63422553   1.75789412   1.41675054]]\n",
      "\n",
      " [[  1.20052381   1.06483712   1.5076533    1.32185213   1.56838209]\n",
      "  [  1.07331055   1.53365962   1.27510891   1.12160117   1.58981696]\n",
      "  [  1.24071683   1.18970979   1.61568258   1.08615558   1.27807235]]]\n"
     ]
    }
   ],
   "source": [
    "mask_max = d == d_max\n",
    "f[mask_max] = 100\n",
    "print(f)"
   ]
  },
  {
   "cell_type": "code",
   "execution_count": 75,
   "metadata": {},
   "outputs": [
    {
     "name": "stdout",
     "output_type": "stream",
     "text": [
      "[[[  1.57014602   1.698741    25.          25.         100.        ]\n",
      "  [  0.           1.51025187   1.75347332   1.77734876  25.        ]\n",
      "  [  1.81871682   1.517811     1.63422553   1.75789412  25.        ]]\n",
      "\n",
      " [[ 25.          25.           1.5076533   25.           1.56838209]\n",
      "  [ 25.           1.53365962  25.          25.           1.58981696]\n",
      "  [ 25.          25.           1.61568258  25.          25.        ]]]\n"
     ]
    }
   ],
   "source": [
    "mask1 = (d > d_min) & (d < d_mean)\n",
    "f[mask1] = 25 \n",
    "print(f)"
   ]
  },
  {
   "cell_type": "code",
   "execution_count": 76,
   "metadata": {},
   "outputs": [
    {
     "name": "stdout",
     "output_type": "stream",
     "text": [
      "[[[ 75.  75.  25.  25. 100.]\n",
      "  [  0.  75.  75.  75.  25.]\n",
      "  [ 75.  75.  75.  75.  25.]]\n",
      "\n",
      " [[ 25.  25.  75.  25.  75.]\n",
      "  [ 25.  75.  25.  25.  75.]\n",
      "  [ 25.  25.  75.  25.  25.]]]\n"
     ]
    }
   ],
   "source": [
    "mask2 = (d > d_mean) & (d < d_max)\n",
    "f[mask2] = 75\n",
    "print(f)"
   ]
  },
  {
   "cell_type": "code",
   "execution_count": 77,
   "metadata": {},
   "outputs": [
    {
     "name": "stdout",
     "output_type": "stream",
     "text": [
      "[[[ 75.  75.  25.  25. 100.]\n",
      "  [  0.  75.  75.  75.  25.]\n",
      "  [ 75.  75.  75.  75.  25.]]\n",
      "\n",
      " [[ 25.  25.  75.  25.  75.]\n",
      "  [ 25.  75.  25.  25.  75.]\n",
      "  [ 25.  25.  75.  25.  25.]]]\n"
     ]
    }
   ],
   "source": [
    "print(f)"
   ]
  },
  {
   "cell_type": "markdown",
   "metadata": {},
   "source": [
    "#### 17. Print *d* and *f*. Do you have your expected *f*?\n",
    "For instance, if your *d* is:\n",
    "```python\n",
    "[[[1.85836099, 1.67064465, 1.62576044, 1.40243961, 1.88454931],\n",
    "[1.75354326, 1.69403643, 1.36729252, 1.61415071, 1.12104981],\n",
    "[1.72201435, 1.1862918 , 1.87078449, 1.7726778 , 1.88180042]],\n",
    "[[1.44747908, 1.31673383, 1.02000951, 1.52218947, 1.97066381],\n",
    "[1.79129243, 1.74983003, 1.96028037, 1.85166831, 1.65450881],\n",
    "[1.18068344, 1.9587381 , 1.00656599, 1.93402165, 1.73514584]]]\n",
    "```\n",
    "Your *f* should be:\n",
    "```python\n",
    "[[[ 75.,  75.,  75.,  25.,  75.],\n",
    "[ 75.,  75.,  25.,  25.,  25.],\n",
    "[ 75.,  25.,  75.,  75.,  75.]],\n",
    "[[ 25.,  25.,  25.,  25., 100.],\n",
    "[ 75.,  75.,  75.,  75.,  75.],\n",
    "[ 25.,  75.,   0.,  75.,  75.]]]\n",
    "```"
   ]
  },
  {
   "cell_type": "code",
   "execution_count": 78,
   "metadata": {},
   "outputs": [
    {
     "name": "stdout",
     "output_type": "stream",
     "text": [
      "[[[1.57014602 1.698741   1.34263806 1.03074618 1.834281  ]\n",
      "  [1.02583447 1.51025187 1.75347332 1.77734876 1.19390622]\n",
      "  [1.81871682 1.517811   1.63422553 1.75789412 1.41675054]]\n",
      "\n",
      " [[1.20052381 1.06483712 1.5076533  1.32185213 1.56838209]\n",
      "  [1.07331055 1.53365962 1.27510891 1.12160117 1.58981696]\n",
      "  [1.24071683 1.18970979 1.61568258 1.08615558 1.27807235]]]\n",
      "[[[ 75.  75.  25.  25. 100.]\n",
      "  [  0.  75.  75.  75.  25.]\n",
      "  [ 75.  75.  75.  75.  25.]]\n",
      "\n",
      " [[ 25.  25.  75.  25.  75.]\n",
      "  [ 25.  75.  25.  25.  75.]\n",
      "  [ 25.  25.  75.  25.  25.]]]\n"
     ]
    }
   ],
   "source": [
    "# your code here\n",
    "print(d)\n",
    "print(f) "
   ]
  },
  {
   "cell_type": "markdown",
   "metadata": {},
   "source": [
    "#### 18. Bonus question: instead of using numbers (i.e. 0, 25, 50, 75, and 100), use string values  (\"A\", \"B\", \"C\", \"D\", and \"E\") to label the array elements. For the example above, the expected result is:\n",
    "\n",
    "```python\n",
    "[[[ 'D',  'D',  'D',  'B',  'D'],\n",
    "[ 'D',  'D',  'B',  'B',  'B'],\n",
    "[ 'D',  'B',  'D',  'D',  'D']],\n",
    "[[ 'B',  'B',  'B',  'B',  'E'],\n",
    "[ 'D',  'D',  'D',  'D',  'D'],\n",
    "[ 'B',  'D',   'A',  'D', 'D']]]\n",
    "```\n",
    "**Note**: you don't have to use Numpy in this question."
   ]
  },
  {
   "cell_type": "code",
   "execution_count": null,
   "metadata": {},
   "outputs": [],
   "source": [
    "# your code here"
   ]
  },
  {
   "cell_type": "code",
   "execution_count": 79,
   "metadata": {},
   "outputs": [
    {
     "name": "stdout",
     "output_type": "stream",
     "text": [
      "[[[ 75.  75.  25.  25. 100.]\n",
      "  [  0.  75.  75.  75.  25.]\n",
      "  [ 75.  75.  75.  75.  25.]]\n",
      "\n",
      " [[ 25.  25.  75.  25.  75.]\n",
      "  [ 25.  75.  25.  25.  75.]\n",
      "  [ 25.  25.  75.  25.  25.]]]\n"
     ]
    }
   ],
   "source": [
    "f2 = f.astype(str)\n",
    "print(f)"
   ]
  },
  {
   "cell_type": "code",
   "execution_count": 88,
   "metadata": {},
   "outputs": [
    {
     "name": "stdout",
     "output_type": "stream",
     "text": [
      "[[['B' 'B' 'A' 'A' 'E']\n",
      "  ['D' 'B' 'B' 'B' 'A']\n",
      "  ['B' 'B' 'B' 'B' 'A']]\n",
      "\n",
      " [['A' 'A' 'B' 'A' 'B']\n",
      "  ['A' 'B' 'A' 'A' 'B']\n",
      "  ['A' 'A' 'B' 'A' 'A']]]\n"
     ]
    }
   ],
   "source": [
    "f2[f2 == '25.0'] = 'A'\n",
    "f2[f2 == '75.0'] = 'B'\n",
    "f2[f2 == '50.0'] = 'C'\n",
    "f2[f2 == '0.0'] = 'D'\n",
    "f2[f2 == '100.0'] = 'E'\n",
    "print(f2)"
   ]
  }
 ],
 "metadata": {
  "kernelspec": {
   "display_name": "Python 3 (ipykernel)",
   "language": "python",
   "name": "python3"
  },
  "language_info": {
   "codemirror_mode": {
    "name": "ipython",
    "version": 3
   },
   "file_extension": ".py",
   "mimetype": "text/x-python",
   "name": "python",
   "nbconvert_exporter": "python",
   "pygments_lexer": "ipython3",
   "version": "3.10.13"
  }
 },
 "nbformat": 4,
 "nbformat_minor": 2
}
