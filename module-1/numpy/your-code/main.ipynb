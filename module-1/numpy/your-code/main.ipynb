{
 "cells": [
  {
   "cell_type": "markdown",
   "metadata": {},
   "source": [
    "# Introduction to NumPy\n",
    "\n",
    "\n",
    "#### 1. Import NumPy under the name np."
   ]
  },
  {
   "cell_type": "code",
   "execution_count": 1,
   "metadata": {},
   "outputs": [],
   "source": [
    "# your code here\n",
    "import numpy as np"
   ]
  },
  {
   "cell_type": "markdown",
   "metadata": {},
   "source": [
    "#### 2. Print your NumPy version."
   ]
  },
  {
   "cell_type": "code",
   "execution_count": 2,
   "metadata": {},
   "outputs": [
    {
     "name": "stdout",
     "output_type": "stream",
     "text": [
      "1.26.0\n"
     ]
    }
   ],
   "source": [
    "# your code here\n",
    "print(np.__version__)"
   ]
  },
  {
   "cell_type": "markdown",
   "metadata": {},
   "source": [
    "#### 3. Generate a 2x3x5 3-dimensional array with random values. Assign the array to variable *a*.\n",
    "**Challenge**: there are at least three easy ways that use numpy to generate random arrays. How many ways can you find?"
   ]
  },
  {
   "cell_type": "code",
   "execution_count": 2,
   "metadata": {},
   "outputs": [
    {
     "name": "stdout",
     "output_type": "stream",
     "text": [
      "[[[26 27 28 26 48]\n",
      "  [22 49 43 45 10]\n",
      "  [29 30 22 39 17]]\n",
      "\n",
      " [[ 7 48 46 37 13]\n",
      "  [41 41 40 43 26]\n",
      "  [13  7 11 34 15]]]\n"
     ]
    }
   ],
   "source": [
    "# Method 1  >> Utilizando el método .random y .randint, indicando el elemento máximo (50) y el tamaño de 2x3x5\n",
    "a = np.random.randint(50, size=(2,3,5))\n",
    "print(a)"
   ]
  },
  {
   "cell_type": "code",
   "execution_count": 3,
   "metadata": {},
   "outputs": [
    {
     "name": "stdout",
     "output_type": "stream",
     "text": [
      "[[[0.36655902 0.03443098 0.71080592 0.07384089 0.83953353]\n",
      "  [0.74038629 0.0092473  0.68104295 0.55828381 0.88197141]\n",
      "  [0.66653213 0.24026399 0.70693055 0.65808798 0.31317987]]\n",
      "\n",
      " [[0.17876127 0.68951059 0.85022948 0.38841146 0.50965565]\n",
      "  [0.18366747 0.03596833 0.40289541 0.94956438 0.56080831]\n",
      "  [0.63931975 0.43747324 0.61914622 0.75521814 0.59625524]]]\n"
     ]
    }
   ],
   "source": [
    "# Method 2   >> Utilizando el método .random y .rand que, en lugar de forzar a enteros, te devuelve float. \n",
    "a = np.random.rand(2, 3, 5)   \n",
    "print(a)"
   ]
  },
  {
   "cell_type": "code",
   "execution_count": 5,
   "metadata": {},
   "outputs": [
    {
     "name": "stdout",
     "output_type": "stream",
     "text": [
      "[[[0.38738818 0.68115102 0.74999253 0.82314153 0.03637284]\n",
      "  [0.28606559 0.47245512 0.09331063 0.35354761 0.6482337 ]\n",
      "  [0.46722254 0.43267329 0.05566529 0.63108931 0.10982756]]\n",
      "\n",
      " [[0.03281591 0.35101081 0.39133008 0.14694082 0.57965035]\n",
      "  [0.25078258 0.4174834  0.90729264 0.13102907 0.5776258 ]\n",
      "  [0.26342971 0.89697281 0.78891455 0.43646466 0.89754632]]]\n"
     ]
    }
   ],
   "source": [
    "# Method 3   >>> Utilizando el método .random y .uniform\n",
    "a = np.random.uniform(size=(2, 3, 5))\n",
    "print(a)"
   ]
  },
  {
   "cell_type": "markdown",
   "metadata": {},
   "source": [
    "#### 4. Print *a*.\n"
   ]
  },
  {
   "cell_type": "code",
   "execution_count": 6,
   "metadata": {},
   "outputs": [
    {
     "name": "stdout",
     "output_type": "stream",
     "text": [
      "[[[0.38738818 0.68115102 0.74999253 0.82314153 0.03637284]\n",
      "  [0.28606559 0.47245512 0.09331063 0.35354761 0.6482337 ]\n",
      "  [0.46722254 0.43267329 0.05566529 0.63108931 0.10982756]]\n",
      "\n",
      " [[0.03281591 0.35101081 0.39133008 0.14694082 0.57965035]\n",
      "  [0.25078258 0.4174834  0.90729264 0.13102907 0.5776258 ]\n",
      "  [0.26342971 0.89697281 0.78891455 0.43646466 0.89754632]]]\n"
     ]
    }
   ],
   "source": [
    "# your code here\n",
    "print(a)"
   ]
  },
  {
   "cell_type": "markdown",
   "metadata": {},
   "source": [
    "#### 5. Create a 5x2x3 3-dimensional array with all values equaling 1. Assign the array to variable *b*."
   ]
  },
  {
   "cell_type": "code",
   "execution_count": 15,
   "metadata": {},
   "outputs": [
    {
     "name": "stdout",
     "output_type": "stream",
     "text": [
      "3\n",
      "(5, 2, 3)\n",
      "30\n",
      "[[0 0 0]\n",
      " [0 0 0]]\n"
     ]
    }
   ],
   "source": [
    "# your code here\n",
    "b = np.ones((5,2,3))\n",
    "#print(b.ndim)      # Número dimensiones=3\n",
    "#print(b.shape)     # Forma de la matriz\n"
   ]
  },
  {
   "cell_type": "markdown",
   "metadata": {},
   "source": [
    "#### 6. Print *b*.\n"
   ]
  },
  {
   "cell_type": "code",
   "execution_count": 16,
   "metadata": {},
   "outputs": [
    {
     "name": "stdout",
     "output_type": "stream",
     "text": [
      "[[[1. 1. 1.]\n",
      "  [1. 1. 1.]]\n",
      "\n",
      " [[1. 1. 1.]\n",
      "  [1. 1. 1.]]\n",
      "\n",
      " [[1. 1. 1.]\n",
      "  [1. 1. 1.]]\n",
      "\n",
      " [[1. 1. 1.]\n",
      "  [1. 1. 1.]]\n",
      "\n",
      " [[1. 1. 1.]\n",
      "  [1. 1. 1.]]]\n"
     ]
    }
   ],
   "source": [
    "# your code here\n",
    "print(b)"
   ]
  },
  {
   "cell_type": "markdown",
   "metadata": {},
   "source": [
    "#### 7. Do *a* and *b* have the same size? How do you prove that in Python code?"
   ]
  },
  {
   "cell_type": "code",
   "execution_count": 19,
   "metadata": {},
   "outputs": [
    {
     "name": "stdout",
     "output_type": "stream",
     "text": [
      "30\n",
      "30\n",
      "True\n"
     ]
    }
   ],
   "source": [
    "# your code here\n",
    "print(a.size)\n",
    "print(b.size)\n",
    "print(a.size == b.size)\n",
    "\n",
    "# Yes, is the same size. You can check it by looking at the size attribute with .size"
   ]
  },
  {
   "cell_type": "markdown",
   "metadata": {},
   "source": [
    "#### 8. Are you able to add *a* and *b*? Why or why not?\n"
   ]
  },
  {
   "cell_type": "code",
   "execution_count": 22,
   "metadata": {},
   "outputs": [
    {
     "ename": "ValueError",
     "evalue": "operands could not be broadcast together with shapes (2,3,5) (5,2,3) ",
     "output_type": "error",
     "traceback": [
      "\u001b[1;31m---------------------------------------------------------------------------\u001b[0m",
      "\u001b[1;31mValueError\u001b[0m                                Traceback (most recent call last)",
      "Cell \u001b[1;32mIn[22], line 3\u001b[0m\n\u001b[0;32m      1\u001b[0m \u001b[38;5;66;03m# your answer here\u001b[39;00m\n\u001b[0;32m      2\u001b[0m \u001b[38;5;66;03m#c_concat = np.concatenate((a, b)) # No puedes utilizar .concatenate porque todas las dimensiones deben concidir \u001b[39;00m\n\u001b[1;32m----> 3\u001b[0m d_add \u001b[38;5;241m=\u001b[39m \u001b[43mnp\u001b[49m\u001b[38;5;241;43m.\u001b[39;49m\u001b[43madd\u001b[49m\u001b[43m(\u001b[49m\u001b[43ma\u001b[49m\u001b[43m,\u001b[49m\u001b[43m \u001b[49m\u001b[43mb\u001b[49m\u001b[43m)\u001b[49m\n",
      "\u001b[1;31mValueError\u001b[0m: operands could not be broadcast together with shapes (2,3,5) (5,2,3) "
     ]
    }
   ],
   "source": [
    "# your answer here\n",
    "c_concat = np.concatenate((a, b)) # No puedes utilizar .concatenate porque todas las dimensiones deben concidir \n",
    "d_add = np.add(a, b)               # Tampoco se pueden sumar por lo mismo, no tienen la misma forma (2,3,5) vs (5,2,3)\n"
   ]
  },
  {
   "cell_type": "markdown",
   "metadata": {},
   "source": [
    "#### 9. Transpose *b* so that it has the same structure of *a* (i.e. become a 2x3x5 array). Assign the transposed array to variable *c*."
   ]
  },
  {
   "cell_type": "code",
   "execution_count": 27,
   "metadata": {},
   "outputs": [
    {
     "name": "stdout",
     "output_type": "stream",
     "text": [
      "[[[1. 1. 1. 1. 1.]\n",
      "  [1. 1. 1. 1. 1.]\n",
      "  [1. 1. 1. 1. 1.]]\n",
      "\n",
      " [[1. 1. 1. 1. 1.]\n",
      "  [1. 1. 1. 1. 1.]\n",
      "  [1. 1. 1. 1. 1.]]]\n",
      "3\n",
      "(2, 3, 5)\n"
     ]
    }
   ],
   "source": [
    "# your code here\n",
    "\n",
    "c = b.reshape(2,3,5)\n",
    "print(c)\n",
    "\n",
    "#print(c.ndim)      # Número dimensiones=3\n",
    "#print(c.shape)     # Forma de la matriz"
   ]
  },
  {
   "cell_type": "markdown",
   "metadata": {},
   "source": [
    "#### 10. Try to add *a* and *c*. Now it should work. Assign the sum to variable *d*. But why does it work now?"
   ]
  },
  {
   "cell_type": "code",
   "execution_count": 28,
   "metadata": {},
   "outputs": [
    {
     "name": "stdout",
     "output_type": "stream",
     "text": [
      "[[[1.38738818 1.68115102 1.74999253 1.82314153 1.03637284]\n",
      "  [1.28606559 1.47245512 1.09331063 1.35354761 1.6482337 ]\n",
      "  [1.46722254 1.43267329 1.05566529 1.63108931 1.10982756]]\n",
      "\n",
      " [[1.03281591 1.35101081 1.39133008 1.14694082 1.57965035]\n",
      "  [1.25078258 1.4174834  1.90729264 1.13102907 1.5776258 ]\n",
      "  [1.26342971 1.89697281 1.78891455 1.43646466 1.89754632]]]\n"
     ]
    }
   ],
   "source": [
    "# your code/answer here\n",
    "d = np.add(a, c)\n",
    "print(d)\n",
    "\n",
    "\n",
    "# He utiliza el método .add para sumar las dos variables. Ahora es posible porque ambas tienen la misma forma. "
   ]
  },
  {
   "cell_type": "markdown",
   "metadata": {},
   "source": [
    "#### 11. Print *a* and *d*. Notice the difference and relation of the two array in terms of the values? Explain."
   ]
  },
  {
   "cell_type": "code",
   "execution_count": 31,
   "metadata": {},
   "outputs": [
    {
     "name": "stdout",
     "output_type": "stream",
     "text": [
      "[[[1.38738818 1.68115102 1.74999253 1.82314153 1.03637284]\n",
      "  [1.28606559 1.47245512 1.09331063 1.35354761 1.6482337 ]\n",
      "  [1.46722254 1.43267329 1.05566529 1.63108931 1.10982756]]\n",
      "\n",
      " [[1.03281591 1.35101081 1.39133008 1.14694082 1.57965035]\n",
      "  [1.25078258 1.4174834  1.90729264 1.13102907 1.5776258 ]\n",
      "  [1.26342971 1.89697281 1.78891455 1.43646466 1.89754632]]]\n"
     ]
    }
   ],
   "source": [
    "# your code/answer here\n",
    "print(a)\n",
    "print(d)\n",
    "\n",
    "# Tienen el mismo número de elementos y la misma forma. Únicamente los valores en d son la suma de la a + 1"
   ]
  },
  {
   "cell_type": "markdown",
   "metadata": {},
   "source": [
    "#### 12. Multiply *a* and *c*. Assign the result to *e*."
   ]
  },
  {
   "cell_type": "code",
   "execution_count": 32,
   "metadata": {},
   "outputs": [
    {
     "name": "stdout",
     "output_type": "stream",
     "text": [
      "[[[0.38738818 0.68115102 0.74999253 0.82314153 0.03637284]\n",
      "  [0.28606559 0.47245512 0.09331063 0.35354761 0.6482337 ]\n",
      "  [0.46722254 0.43267329 0.05566529 0.63108931 0.10982756]]\n",
      "\n",
      " [[0.03281591 0.35101081 0.39133008 0.14694082 0.57965035]\n",
      "  [0.25078258 0.4174834  0.90729264 0.13102907 0.5776258 ]\n",
      "  [0.26342971 0.89697281 0.78891455 0.43646466 0.89754632]]]\n"
     ]
    }
   ],
   "source": [
    "# your code here\n",
    "e = np.multiply(a,c)\n",
    "print(e)"
   ]
  },
  {
   "cell_type": "markdown",
   "metadata": {},
   "source": [
    "#### 13. Does *e* equal to *a*? Why or why not?\n"
   ]
  },
  {
   "cell_type": "code",
   "execution_count": 34,
   "metadata": {},
   "outputs": [
    {
     "name": "stdout",
     "output_type": "stream",
     "text": [
      "[[[0.38738818 0.68115102 0.74999253 0.82314153 0.03637284]\n",
      "  [0.28606559 0.47245512 0.09331063 0.35354761 0.6482337 ]\n",
      "  [0.46722254 0.43267329 0.05566529 0.63108931 0.10982756]]\n",
      "\n",
      " [[0.03281591 0.35101081 0.39133008 0.14694082 0.57965035]\n",
      "  [0.25078258 0.4174834  0.90729264 0.13102907 0.5776258 ]\n",
      "  [0.26342971 0.89697281 0.78891455 0.43646466 0.89754632]]]\n",
      "[[[0.38738818 0.68115102 0.74999253 0.82314153 0.03637284]\n",
      "  [0.28606559 0.47245512 0.09331063 0.35354761 0.6482337 ]\n",
      "  [0.46722254 0.43267329 0.05566529 0.63108931 0.10982756]]\n",
      "\n",
      " [[0.03281591 0.35101081 0.39133008 0.14694082 0.57965035]\n",
      "  [0.25078258 0.4174834  0.90729264 0.13102907 0.5776258 ]\n",
      "  [0.26342971 0.89697281 0.78891455 0.43646466 0.89754632]]]\n",
      "[[[ True  True  True  True  True]\n",
      "  [ True  True  True  True  True]\n",
      "  [ True  True  True  True  True]]\n",
      "\n",
      " [[ True  True  True  True  True]\n",
      "  [ True  True  True  True  True]\n",
      "  [ True  True  True  True  True]]]\n"
     ]
    }
   ],
   "source": [
    "# your code/answer here\n",
    "print(a)\n",
    "print(e)\n",
    "print(a == e)\n",
    "\n",
    "# Sí, porque al multiplicarlo x 1 devuelve el mismo resultado. "
   ]
  },
  {
   "cell_type": "markdown",
   "metadata": {},
   "source": [
    "#### 14. Identify the max, min, and mean values in *d*. Assign those values to variables *d_max*, *d_min* and *d_mean*."
   ]
  },
  {
   "cell_type": "code",
   "execution_count": 70,
   "metadata": {},
   "outputs": [
    {
     "name": "stdout",
     "output_type": "stream",
     "text": [
      "[[[1.38738818 1.68115102 1.74999253 1.82314153 1.03637284]\n",
      "  [1.28606559 1.47245512 1.09331063 1.35354761 1.6482337 ]\n",
      "  [1.46722254 1.43267329 1.05566529 1.63108931 1.10982756]]\n",
      "\n",
      " [[1.03281591 1.35101081 1.39133008 1.14694082 1.57965035]\n",
      "  [1.25078258 1.4174834  1.90729264 1.13102907 1.5776258 ]\n",
      "  [1.26342971 1.89697281 1.78891455 1.43646466 1.89754632]]]\n",
      "1.907292638955\n",
      "1.0328159149500635\n",
      "1.4432475411979833\n"
     ]
    }
   ],
   "source": [
    "# your code here\n",
    "print(d)\n",
    "\n",
    "d_max = np.array(d.max())\n",
    "print(d_max)\n",
    "\n",
    "d_min = np.array(d.min())\n",
    "print(d_min)\n",
    "\n",
    "d_mean = np.array(d.mean())\n",
    "print(d_mean)"
   ]
  },
  {
   "cell_type": "markdown",
   "metadata": {},
   "source": [
    "#### 15. Now we want to label the values in *d*. First create an empty array *f* with the same shape (i.e. 2x3x5) as *d* using `np.empty`.\n"
   ]
  },
  {
   "cell_type": "code",
   "execution_count": 52,
   "metadata": {},
   "outputs": [
    {
     "name": "stdout",
     "output_type": "stream",
     "text": [
      "[[[1.38738818 1.68115102 1.74999253 1.82314153 1.03637284]\n",
      "  [1.28606559 1.47245512 1.09331063 1.35354761 1.6482337 ]\n",
      "  [1.46722254 1.43267329 1.05566529 1.63108931 1.10982756]]\n",
      "\n",
      " [[1.03281591 1.35101081 1.39133008 1.14694082 1.57965035]\n",
      "  [1.25078258 1.4174834  1.90729264 1.13102907 1.5776258 ]\n",
      "  [1.26342971 1.89697281 1.78891455 1.43646466 1.89754632]]]\n"
     ]
    }
   ],
   "source": [
    "# your code here\n",
    "f = np.empty((2,3,5))\n",
    "print(f)"
   ]
  },
  {
   "cell_type": "markdown",
   "metadata": {},
   "source": [
    "#### 16. Populate the values in *f*. \n",
    "\n",
    "For each value in *d*, if it's larger than *d_min* but smaller than *d_mean*, assign 25 to the corresponding value in *f*. If a value in *d* is larger than *d_mean* but smaller than *d_max*, assign 75 to the corresponding value in *f*. If a value equals to *d_mean*, assign 50 to the corresponding value in *f*. Assign 0 to the corresponding value(s) in *f* for *d_min* in *d*. Assign 100 to the corresponding value(s) in *f* for *d_max* in *d*. In the end, f should have only the following values: 0, 25, 50, 75, and 100.\n",
    "\n",
    "**Note**: you don't have to use Numpy in this question."
   ]
  },
  {
   "cell_type": "code",
   "execution_count": 71,
   "metadata": {},
   "outputs": [
    {
     "name": "stdout",
     "output_type": "stream",
     "text": [
      "[[[ 25.  75.  75.  75.  25.]\n",
      "  [ 25.  75.  25.  25.  75.]\n",
      "  [ 75.  25.  25.  75.  25.]]\n",
      "\n",
      " [[  0.  25.  25.  25.  75.]\n",
      "  [ 25.  25. 100.  25.  75.]\n",
      "  [ 25.  75.  75.  25.  75.]]]\n"
     ]
    },
    {
     "data": {
      "text/plain": [
       "'\\n# Primero completo f como una copia de d \\nf_copy = d.copy()\\n# print(f)\\n\\n# Segundo paso la array como una lista f para poder iterar\\nf_list = f_copy.tolist()\\n#print(f_list)\\n\\n\\n\\n\\ng = []\\nfor value in f_list: \\n    if (value > d_min and value < d_mean):\\n        g.append(25) \\n    elif (value > d_mean and value < d_max):\\n        g.append(75)\\n    elif value == d_mean:\\n        g.append(50)\\n    elif value == d_min:\\n        g.append(0)\\n    else: \\n        g.append(100)\\n\\nprint(g)\\n'"
      ]
     },
     "execution_count": 71,
     "metadata": {},
     "output_type": "execute_result"
    }
   ],
   "source": [
    "# your code here\n",
    "#print(d)\n",
    "\n",
    "for i in range(d.shape[0]):\n",
    "    for j in range(d.shape[1]):\n",
    "        for k in range(d.shape[2]):\n",
    "            valor = d[i, j, k]\n",
    "            if valor > d_min and valor < d_mean:\n",
    "                f[i, j, k] = 25\n",
    "            elif valor > d_mean and valor < d_max:\n",
    "                f[i, j, k] = 75\n",
    "            elif valor == d_mean:\n",
    "                f[i, j, k] = 50\n",
    "            elif valor == d_min:\n",
    "                f[i, j, k] = 0\n",
    "            elif valor == d_max:\n",
    "                f[i, j, k] = 100\n",
    "\n",
    "print(f)\n",
    "\n",
    "\n",
    "\"\"\"\n",
    "# Primero completo f como una copia de d \n",
    "f_copy = d.copy()\n",
    "# print(f)\n",
    "\n",
    "# Segundo paso la array como una lista f para poder iterar\n",
    "f_list = f_copy.tolist()\n",
    "#print(f_list)\n",
    "\n",
    "\n",
    "\n",
    "\n",
    "g = []\n",
    "for value in f_list: \n",
    "    if (value > d_min and value < d_mean):\n",
    "        g.append(25) \n",
    "    elif (value > d_mean and value < d_max):\n",
    "        g.append(75)\n",
    "    elif value == d_mean:\n",
    "        g.append(50)\n",
    "    elif value == d_min:\n",
    "        g.append(0)\n",
    "    else: \n",
    "        g.append(100)\n",
    "\n",
    "print(g)\n",
    "\"\"\""
   ]
  },
  {
   "cell_type": "markdown",
   "metadata": {},
   "source": [
    "#### 17. Print *d* and *f*. Do you have your expected *f*?\n",
    "For instance, if your *d* is:\n",
    "```python\n",
    "[[[1.85836099, 1.67064465, 1.62576044, 1.40243961, 1.88454931],\n",
    "[1.75354326, 1.69403643, 1.36729252, 1.61415071, 1.12104981],\n",
    "[1.72201435, 1.1862918 , 1.87078449, 1.7726778 , 1.88180042]],\n",
    "[[1.44747908, 1.31673383, 1.02000951, 1.52218947, 1.97066381],\n",
    "[1.79129243, 1.74983003, 1.96028037, 1.85166831, 1.65450881],\n",
    "[1.18068344, 1.9587381 , 1.00656599, 1.93402165, 1.73514584]]]\n",
    "```\n",
    "Your *f* should be:\n",
    "```python\n",
    "[[[ 75.,  75.,  75.,  25.,  75.],\n",
    "[ 75.,  75.,  25.,  25.,  25.],\n",
    "[ 75.,  25.,  75.,  75.,  75.]],\n",
    "[[ 25.,  25.,  25.,  25., 100.],\n",
    "[ 75.,  75.,  75.,  75.,  75.],\n",
    "[ 25.,  75.,   0.,  75.,  75.]]]\n",
    "```"
   ]
  },
  {
   "cell_type": "code",
   "execution_count": 72,
   "metadata": {},
   "outputs": [
    {
     "name": "stdout",
     "output_type": "stream",
     "text": [
      "[[[1.38738818 1.68115102 1.74999253 1.82314153 1.03637284]\n",
      "  [1.28606559 1.47245512 1.09331063 1.35354761 1.6482337 ]\n",
      "  [1.46722254 1.43267329 1.05566529 1.63108931 1.10982756]]\n",
      "\n",
      " [[1.03281591 1.35101081 1.39133008 1.14694082 1.57965035]\n",
      "  [1.25078258 1.4174834  1.90729264 1.13102907 1.5776258 ]\n",
      "  [1.26342971 1.89697281 1.78891455 1.43646466 1.89754632]]]\n",
      "[[[ 25.  75.  75.  75.  25.]\n",
      "  [ 25.  75.  25.  25.  75.]\n",
      "  [ 75.  25.  25.  75.  25.]]\n",
      "\n",
      " [[  0.  25.  25.  25.  75.]\n",
      "  [ 25.  25. 100.  25.  75.]\n",
      "  [ 25.  75.  75.  25.  75.]]]\n"
     ]
    }
   ],
   "source": [
    "# your code here\n",
    "print(d)\n",
    "print(f)  # Más o menos, tiene la misma forma pero no tiene los mismos números, hay algo que falló en la iteración"
   ]
  },
  {
   "cell_type": "markdown",
   "metadata": {},
   "source": [
    "#### 18. Bonus question: instead of using numbers (i.e. 0, 25, 50, 75, and 100), use string values  (\"A\", \"B\", \"C\", \"D\", and \"E\") to label the array elements. For the example above, the expected result is:\n",
    "\n",
    "```python\n",
    "[[[ 'D',  'D',  'D',  'B',  'D'],\n",
    "[ 'D',  'D',  'B',  'B',  'B'],\n",
    "[ 'D',  'B',  'D',  'D',  'D']],\n",
    "[[ 'B',  'B',  'B',  'B',  'E'],\n",
    "[ 'D',  'D',  'D',  'D',  'D'],\n",
    "[ 'B',  'D',   'A',  'D', 'D']]]\n",
    "```\n",
    "**Note**: you don't have to use Numpy in this question."
   ]
  },
  {
   "cell_type": "code",
   "execution_count": null,
   "metadata": {},
   "outputs": [],
   "source": [
    "# your code here"
   ]
  }
 ],
 "metadata": {
  "kernelspec": {
   "display_name": "Python 3 (ipykernel)",
   "language": "python",
   "name": "python3"
  },
  "language_info": {
   "codemirror_mode": {
    "name": "ipython",
    "version": 3
   },
   "file_extension": ".py",
   "mimetype": "text/x-python",
   "name": "python",
   "nbconvert_exporter": "python",
   "pygments_lexer": "ipython3",
   "version": "3.10.13"
  }
 },
 "nbformat": 4,
 "nbformat_minor": 2
}
